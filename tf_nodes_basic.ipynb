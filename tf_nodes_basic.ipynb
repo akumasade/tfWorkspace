{
 "cells": [
  {
   "cell_type": "code",
   "execution_count": 1,
   "metadata": {},
   "outputs": [],
   "source": [
    "# Examples taken from https://www.youtube.com/watch?v=oxf3o8IbCk4\n",
    "import tensorflow as tf"
   ]
  },
  {
   "cell_type": "code",
   "execution_count": 2,
   "metadata": {},
   "outputs": [],
   "source": [
    "#create two placeholders (for two floats)\n",
    "x  = tf.placeholder(tf.float32)\n",
    "y  = tf.placeholder(tf.float32)\n",
    "\n",
    "#create two nodes that do the following:\n",
    "# add the values then multiple the value by 3\n",
    "adder_node = x + y\n",
    "add_and_triple = adder_node*3"
   ]
  },
  {
   "cell_type": "code",
   "execution_count": 5,
   "metadata": {},
   "outputs": [],
   "source": [
    "#create a session to use our nodes\n",
    "sess  = tf.Session()\n",
    "#or create a remote session\n",
    "#tf.Session(\"grpc://example.org:2222\")"
   ]
  },
  {
   "cell_type": "code",
   "execution_count": 8,
   "metadata": {},
   "outputs": [
    {
     "name": "stdout",
     "output_type": "stream",
     "text": [
      "22.5\n",
      "[22.5      51.300003]\n"
     ]
    }
   ],
   "source": [
    "# pass thru sample values\n",
    "print sess.run(add_and_triple, {x:3, y:4.5})\n",
    "print sess.run(add_and_triple, {x:[3, 8], y:[4.5, 9.1]})\n",
    "sess.close()"
   ]
  },
  {
   "cell_type": "code",
   "execution_count": 14,
   "metadata": {},
   "outputs": [],
   "source": [
    "# let's look at things with tensorgraph\n",
    "tf.reset_default_graph()#reset graph\n",
    "\n",
    "a = tf.constant(5, name=\"input_a\")\n",
    "b = tf.constant(3, name=\"input_b\")\n",
    "c = tf.multiply(a,b, name=\"multiply_c\")\n",
    "d = tf.add(a,b, name=\"add_d\")\n",
    "e = tf.add(c,d, name=\"add_e\")\n",
    "\n",
    "sess = tf.Session()\n",
    "output = sess.run(e)\n",
    "writer = tf.summary.FileWriter(\"./my_graph\", sess.graph)\n",
    "writer.close()\n",
    "sess.close()"
   ]
  },
  {
   "cell_type": "code",
   "execution_count": null,
   "metadata": {},
   "outputs": [],
   "source": []
  }
 ],
 "metadata": {
  "kernelspec": {
   "display_name": "Python 2",
   "language": "python",
   "name": "python2"
  },
  "language_info": {
   "codemirror_mode": {
    "name": "ipython",
    "version": 2
   },
   "file_extension": ".py",
   "mimetype": "text/x-python",
   "name": "python",
   "nbconvert_exporter": "python",
   "pygments_lexer": "ipython2",
   "version": "2.7.14"
  }
 },
 "nbformat": 4,
 "nbformat_minor": 2
}
