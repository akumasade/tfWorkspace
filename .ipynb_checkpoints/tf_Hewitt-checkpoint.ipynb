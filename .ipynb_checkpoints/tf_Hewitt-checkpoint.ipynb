{
 "cells": [
  {
   "cell_type": "code",
   "execution_count": 1,
   "metadata": {},
   "outputs": [
    {
     "name": "stderr",
     "output_type": "stream",
     "text": [
      "/home/rachel/anaconda2/envs/tensorflow/lib/python2.7/site-packages/pyfits/__init__.py:22: PyFITSDeprecationWarning: PyFITS is deprecated, please use astropy.io.fits\n",
      "  PyFITSDeprecationWarning)  # noqa\n"
     ]
    }
   ],
   "source": [
    "import numpy as np\n",
    "import matplotlib.pyplot as plt\n",
    "#import pyfits\n",
    "from astropy.io import fits\n",
    "%matplotlib inline"
   ]
  },
  {
   "cell_type": "code",
   "execution_count": 3,
   "metadata": {},
   "outputs": [
    {
     "name": "stdout",
     "output_type": "stream",
     "text": [
      "(74686, 9)\n",
      "[[ 5.189061e-02  3.417398e-02  6.041481e-02 ...  1.233989e-03\n",
      "  -1.010787e-02  8.284886e-03]\n",
      " [ 5.950850e-02  2.725946e-03  8.778107e-02 ...  1.157785e-04\n",
      "  -5.207284e-03  1.241608e-02]\n",
      " [ 5.528446e-02  4.679003e-02  6.145409e-02 ... -2.082113e-02\n",
      "   2.292874e-05  8.593758e-03]\n",
      " ...\n",
      " [ 6.063517e-02  1.955715e-02  6.779296e-02 ... -1.709520e-02\n",
      "   1.231672e-02 -4.331745e-03]\n",
      " [ 4.831895e-02  4.575258e-02  4.552480e-02 ...  2.427485e-03\n",
      "  -1.025476e-02  5.224626e-03]\n",
      " [ 4.280978e-02  5.417493e-02  3.432003e-02 ... -1.225456e-02\n",
      "   8.326094e-03  5.740947e-03]]\n"
     ]
    }
   ],
   "source": [
    "hdulist = fits.open('./Hewett_090816_matchDR7all_wclusters_weightsonly.fits')\n",
    "#print hdulist[1].data.tolist()\n",
    "data = np.asarray(hdulist[1].data.tolist())\n",
    "#X = data[:20000]\n",
    "X = data\n",
    "print X.shape\n",
    "print X"
   ]
  },
  {
   "cell_type": "markdown",
   "metadata": {},
   "source": [
    "### Create PCA (?)"
   ]
  },
  {
   "cell_type": "code",
   "execution_count": null,
   "metadata": {},
   "outputs": [],
   "source": [
    "components = 3\n",
    "\n"
   ]
  },
  {
   "cell_type": "markdown",
   "metadata": {},
   "source": [
    "### Create ICA:"
   ]
  },
  {
   "cell_type": "code",
   "execution_count": null,
   "metadata": {},
   "outputs": [],
   "source": []
  }
 ],
 "metadata": {
  "kernelspec": {
   "display_name": "Python 2",
   "language": "python",
   "name": "python2"
  },
  "language_info": {
   "codemirror_mode": {
    "name": "ipython",
    "version": 2
   },
   "file_extension": ".py",
   "mimetype": "text/x-python",
   "name": "python",
   "nbconvert_exporter": "python",
   "pygments_lexer": "ipython2",
   "version": "2.7.14"
  }
 },
 "nbformat": 4,
 "nbformat_minor": 2
}
