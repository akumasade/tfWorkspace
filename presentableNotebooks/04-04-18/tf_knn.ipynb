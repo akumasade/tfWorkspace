{
 "cells": [
  {
   "cell_type": "markdown",
   "metadata": {
    "slideshow": {
     "slide_type": "slide"
    }
   },
   "source": [
    "## K-nearest Neighbors (applied to Iris data set)\n",
    "*Rachel Buttry*\n",
    "\n",
    "*4 April 2018*"
   ]
  },
  {
   "cell_type": "markdown",
   "metadata": {},
   "source": [
    "We can re-create the K-nearest neghbors model (for classification) in tensorflow.\n",
    "\n",
    "The following code was taken from or based off of these examples: \n",
    "\n",
    "* [PHYS T480 Scikit-Learn-Intro notebook](https://github.com/gtrichards/PHYS_T480/blob/master/Scikit-Learn-Intro.ipynb)\n",
    "* [Tensorflow ex](https://github.com/tensorflow/models/blob/master/samples/core/get_started/iris_data.py)\n",
    "* [Knn ex1](https://github.com/aymericdamien/TensorFlow-Examples/blob/master/examples/2_BasicModels/nearest_neighbor.py) \n",
    "* [Knn ex2](http://marubon-ds.blogspot.com/2017/09/knn-k-nearest-neighbors-by-tensorflow.html)"
   ]
  },
  {
   "cell_type": "code",
   "execution_count": 13,
   "metadata": {
    "slideshow": {
     "slide_type": "slide"
    }
   },
   "outputs": [],
   "source": [
    "#import tensorflow and create our session\n",
    "import tensorflow as tf\n",
    "sess = tf.Session()"
   ]
  },
  {
   "cell_type": "code",
   "execution_count": 14,
   "metadata": {
    "slideshow": {
     "slide_type": "-"
    }
   },
   "outputs": [],
   "source": [
    "# Importing data thru scikitlearn \n",
    "from sklearn.datasets import load_iris\n",
    "import numpy as np\n",
    "iris = load_iris()\n",
    "\n",
    "x_vals = np.array([x[0:4] for x in iris.data])\n",
    "y_vals = np.array(iris.target)\n",
    "\n",
    "# train-test split\n",
    "np.random.seed(1234)\n",
    "train_perc = 0.5#percent of data used for training\n",
    "train_indices = np.random.choice(len(x_vals), \\\n",
    "            int(round(len(x_vals) * train_perc)), replace=False)\n",
    "test_indices =np.array(list(set(range(len(x_vals))) - set(train_indices)))\n",
    "\n",
    "train_data = x_vals[train_indices]\n",
    "test_data = x_vals[test_indices]\n",
    "train_labels = y_vals[train_indices]\n",
    "test_labels = y_vals[test_indices]"
   ]
  },
  {
   "cell_type": "markdown",
   "metadata": {
    "slideshow": {
     "slide_type": "slide"
    }
   },
   "source": [
    "###### K-Nearest Neigbor(s) \n",
    "For classification, we take the k nearest data points, look at their classifications, and see which one occurs most frequently in the sample.\n",
    "\n",
    "Be aware that the code below uses euclidian distance and uniform weights (which are the neighbors.KNeighborsClassifier defaults). The model can be adjusted to use different distance metrics or have weights based on distance."
   ]
  },
  {
   "cell_type": "code",
   "execution_count": 15,
   "metadata": {
    "scrolled": true,
    "slideshow": {
     "slide_type": "-"
    }
   },
   "outputs": [],
   "source": [
    "k = 5 #number of neigbors we're considering\n",
    "\n",
    "# tf Graph Input\n",
    "xtr = tf.placeholder(tf.float32, name=\"training_data\") \n",
    "xte = tf.placeholder(tf.float32, name=\"testing_data\")\n",
    "ytr = tf.placeholder(tf.float32, name=\"training_labels\")\n",
    "\n",
    "# Nearest Neighbor calculation using L1 Distance\n",
    "# Calculate L2 Distance\n",
    "sqr_dist = tf.reduce_sum(tf.square(tf.subtract(xte, xtr)), reduction_indices=1)\n",
    "distance = tf.sqrt(sqr_dist)\n",
    "\n",
    "# nearest k points\n",
    "_, top_k_indices = tf.nn.top_k(tf.negative(distance), k=k)\n",
    "top_k_labels = tf.gather(ytr, top_k_indices)\n",
    "\n",
    "# get uniform weights\n",
    "weights = tf.constant(1./k)\n",
    "\n",
    "ordered_labels, indx, count = tf.unique_with_counts(top_k_labels)\n",
    "\n",
    "\n",
    "weighted_count = tf.multiply(tf.cast(count, tf.float32), weights)\n",
    "pred = ordered_labels[tf.argmax(weighted_count)]\n",
    "\n",
    "\n",
    "# Prediction: Get min distance index (Nearest neighbor)\n",
    "#pred = tf.argmin(distance, 0) #k = 1 (only looking at single nearest neighbor)"
   ]
  },
  {
   "cell_type": "code",
   "execution_count": 16,
   "metadata": {
    "scrolled": true,
    "slideshow": {
     "slide_type": "slide"
    }
   },
   "outputs": [
    {
     "name": "stdout",
     "output_type": "stream",
     "text": [
      "('Test', 0, 'Prediction:', 'virginica', 'True Class:', 'virginica')\n",
      "('Test', 1, 'Prediction:', 'virginica', 'True Class:', 'virginica')\n",
      "('Test', 2, 'Prediction:', 'setosa', 'True Class:', 'setosa')\n",
      "('Test', 3, 'Prediction:', 'setosa', 'True Class:', 'setosa')\n",
      "('Test', 4, 'Prediction:', 'virginica', 'True Class:', 'virginica')\n",
      "('Test', 5, 'Prediction:', 'setosa', 'True Class:', 'setosa')\n",
      "('Test', 6, 'Prediction:', 'setosa', 'True Class:', 'setosa')\n",
      "('Test', 7, 'Prediction:', 'virginica', 'True Class:', 'virginica')\n",
      "('Test', 8, 'Prediction:', 'virginica', 'True Class:', 'virginica')\n",
      "('Test', 9, 'Prediction:', 'virginica', 'True Class:', 'virginica')\n",
      "('Test', 10, 'Prediction:', 'virginica', 'True Class:', 'virginica')\n",
      "('Test', 11, 'Prediction:', 'setosa', 'True Class:', 'setosa')\n",
      "('Test', 12, 'Prediction:', 'setosa', 'True Class:', 'setosa')\n",
      "('Test', 13, 'Prediction:', 'setosa', 'True Class:', 'setosa')\n",
      "('Test', 14, 'Prediction:', 'setosa', 'True Class:', 'setosa')\n",
      "('Test', 15, 'Prediction:', 'setosa', 'True Class:', 'setosa')\n",
      "('Test', 16, 'Prediction:', 'setosa', 'True Class:', 'setosa')\n",
      "('Test', 17, 'Prediction:', 'setosa', 'True Class:', 'setosa')\n",
      "('Test', 18, 'Prediction:', 'virginica', 'True Class:', 'virginica')\n",
      "('Test', 19, 'Prediction:', 'virginica', 'True Class:', 'virginica')\n",
      "('Test', 20, 'Prediction:', 'setosa', 'True Class:', 'setosa')\n",
      "('Test', 21, 'Prediction:', 'setosa', 'True Class:', 'setosa')\n",
      "('Test', 22, 'Prediction:', 'setosa', 'True Class:', 'setosa')\n",
      "('Test', 23, 'Prediction:', 'setosa', 'True Class:', 'setosa')\n",
      "('Test', 24, 'Prediction:', 'setosa', 'True Class:', 'setosa')\n",
      "('Test', 25, 'Prediction:', 'setosa', 'True Class:', 'setosa')\n",
      "('Test', 26, 'Prediction:', 'setosa', 'True Class:', 'setosa')\n",
      "('Test', 27, 'Prediction:', 'setosa', 'True Class:', 'setosa')\n",
      "('Test', 28, 'Prediction:', 'setosa', 'True Class:', 'setosa')\n",
      "('Test', 29, 'Prediction:', 'setosa', 'True Class:', 'setosa')\n",
      "('Test', 30, 'Prediction:', 'setosa', 'True Class:', 'setosa')\n",
      "('Test', 31, 'Prediction:', 'setosa', 'True Class:', 'setosa')\n",
      "('Test', 32, 'Prediction:', 'setosa', 'True Class:', 'setosa')\n",
      "('Test', 33, 'Prediction:', 'setosa', 'True Class:', 'setosa')\n",
      "('Test', 34, 'Prediction:', 'versicolor', 'True Class:', 'versicolor')\n",
      "('Test', 35, 'Prediction:', 'versicolor', 'True Class:', 'versicolor')\n",
      "('Test', 36, 'Prediction:', 'versicolor', 'True Class:', 'versicolor')\n",
      "('Test', 37, 'Prediction:', 'versicolor', 'True Class:', 'versicolor')\n",
      "('Test', 38, 'Prediction:', 'versicolor', 'True Class:', 'versicolor')\n",
      "('Test', 39, 'Prediction:', 'versicolor', 'True Class:', 'versicolor')\n",
      "('Test', 40, 'Prediction:', 'versicolor', 'True Class:', 'versicolor')\n",
      "('Test', 41, 'Prediction:', 'versicolor', 'True Class:', 'versicolor')\n",
      "('Test', 42, 'Prediction:', 'versicolor', 'True Class:', 'versicolor')\n",
      "('Test', 43, 'Prediction:', 'virginica', 'True Class:', 'versicolor')\n",
      "('Test', 44, 'Prediction:', 'versicolor', 'True Class:', 'versicolor')\n",
      "('Test', 45, 'Prediction:', 'versicolor', 'True Class:', 'versicolor')\n",
      "('Test', 46, 'Prediction:', 'versicolor', 'True Class:', 'versicolor')\n",
      "('Test', 47, 'Prediction:', 'versicolor', 'True Class:', 'versicolor')\n",
      "('Test', 48, 'Prediction:', 'versicolor', 'True Class:', 'versicolor')\n",
      "('Test', 49, 'Prediction:', 'virginica', 'True Class:', 'versicolor')\n",
      "('Test', 50, 'Prediction:', 'versicolor', 'True Class:', 'versicolor')\n",
      "('Test', 51, 'Prediction:', 'versicolor', 'True Class:', 'versicolor')\n",
      "('Test', 52, 'Prediction:', 'versicolor', 'True Class:', 'versicolor')\n",
      "('Test', 53, 'Prediction:', 'versicolor', 'True Class:', 'versicolor')\n",
      "('Test', 54, 'Prediction:', 'versicolor', 'True Class:', 'versicolor')\n",
      "('Test', 55, 'Prediction:', 'versicolor', 'True Class:', 'versicolor')\n",
      "('Test', 56, 'Prediction:', 'versicolor', 'True Class:', 'versicolor')\n",
      "('Test', 57, 'Prediction:', 'virginica', 'True Class:', 'virginica')\n",
      "('Test', 58, 'Prediction:', 'versicolor', 'True Class:', 'versicolor')\n",
      "('Test', 59, 'Prediction:', 'versicolor', 'True Class:', 'versicolor')\n",
      "('Test', 60, 'Prediction:', 'virginica', 'True Class:', 'virginica')\n",
      "('Test', 61, 'Prediction:', 'virginica', 'True Class:', 'virginica')\n",
      "('Test', 62, 'Prediction:', 'virginica', 'True Class:', 'virginica')\n",
      "('Test', 63, 'Prediction:', 'virginica', 'True Class:', 'virginica')\n",
      "('Test', 64, 'Prediction:', 'versicolor', 'True Class:', 'virginica')\n",
      "('Test', 65, 'Prediction:', 'virginica', 'True Class:', 'virginica')\n",
      "('Test', 66, 'Prediction:', 'virginica', 'True Class:', 'virginica')\n",
      "('Test', 67, 'Prediction:', 'virginica', 'True Class:', 'virginica')\n",
      "('Test', 68, 'Prediction:', 'virginica', 'True Class:', 'virginica')\n",
      "('Test', 69, 'Prediction:', 'virginica', 'True Class:', 'virginica')\n",
      "('Test', 70, 'Prediction:', 'virginica', 'True Class:', 'virginica')\n",
      "('Test', 71, 'Prediction:', 'virginica', 'True Class:', 'virginica')\n",
      "('Test', 72, 'Prediction:', 'virginica', 'True Class:', 'virginica')\n",
      "('Test', 73, 'Prediction:', 'virginica', 'True Class:', 'virginica')\n",
      "('Test', 74, 'Prediction:', 'virginica', 'True Class:', 'virginica')\n"
     ]
    }
   ],
   "source": [
    "accuracy = 0.0\n",
    "\n",
    "# Initialize the variables (i.e. assign their default value)\n",
    "#init = tf.global_variables_initializer()\n",
    "\n",
    "# Run the initializer\n",
    "#sess.run(init) \n",
    "\n",
    "# loop over test data\n",
    "for i in range(len(test_data)):\n",
    "    # Get nearest neighbor\n",
    "    nn_index = sess.run(pred, {xtr:train_data, xte: test_data[i, :], ytr: train_labels})\n",
    "    prediction = int(nn_index)#int for indexing the target names\n",
    "    actual_label = test_labels[i]\n",
    "    print(\"Test\", i, \"Prediction:\", iris['target_names'][prediction], \\\n",
    "        \"True Class:\", iris['target_names'][actual_label])\n",
    "    # Calculate accuracy\n",
    "    if prediction == actual_label:\n",
    "        accuracy += 1./len(test_data)"
   ]
  },
  {
   "cell_type": "code",
   "execution_count": 17,
   "metadata": {
    "slideshow": {
     "slide_type": "subslide"
    }
   },
   "outputs": [
    {
     "name": "stdout",
     "output_type": "stream",
     "text": [
      "Accuracy:  0.96\n"
     ]
    }
   ],
   "source": [
    "print \"Accuracy: \", accuracy"
   ]
  },
  {
   "cell_type": "code",
   "execution_count": 6,
   "metadata": {
    "slideshow": {
     "slide_type": "-"
    }
   },
   "outputs": [],
   "source": [
    "#visualize out method using tensorgraph\n",
    "tf.reset_default_graph()#reset graph\n",
    "writer = tf.summary.FileWriter(\"./graphs/iris_knn\", sess.graph)\n",
    "writer.close()"
   ]
  },
  {
   "cell_type": "markdown",
   "metadata": {
    "slideshow": {
     "slide_type": "slide"
    }
   },
   "source": [
    "The graph looks like this:\n",
    "![KNN Graph](./graphs/iris_knn.png)"
   ]
  },
  {
   "cell_type": "markdown",
   "metadata": {
    "slideshow": {
     "slide_type": "slide"
    }
   },
   "source": [
    "### The scikit-learn way\n",
    "We can also just use the built-in scikit-learn KNN model. I'll just run it to check if the accuracy is comparable"
   ]
  },
  {
   "cell_type": "code",
   "execution_count": 18,
   "metadata": {
    "scrolled": true,
    "slideshow": {
     "slide_type": "-"
    }
   },
   "outputs": [
    {
     "name": "stdout",
     "output_type": "stream",
     "text": [
      "('Prediction:', 'virginica', 'True Class:', 'virginica')\n",
      "('Prediction:', 'virginica', 'True Class:', 'virginica')\n",
      "('Prediction:', 'setosa', 'True Class:', 'setosa')\n",
      "('Prediction:', 'setosa', 'True Class:', 'setosa')\n",
      "('Prediction:', 'virginica', 'True Class:', 'virginica')\n",
      "('Prediction:', 'setosa', 'True Class:', 'setosa')\n",
      "('Prediction:', 'setosa', 'True Class:', 'setosa')\n",
      "('Prediction:', 'virginica', 'True Class:', 'virginica')\n",
      "('Prediction:', 'virginica', 'True Class:', 'virginica')\n",
      "('Prediction:', 'virginica', 'True Class:', 'virginica')\n",
      "('Prediction:', 'virginica', 'True Class:', 'virginica')\n",
      "('Prediction:', 'setosa', 'True Class:', 'setosa')\n",
      "('Prediction:', 'setosa', 'True Class:', 'setosa')\n",
      "('Prediction:', 'setosa', 'True Class:', 'setosa')\n",
      "('Prediction:', 'setosa', 'True Class:', 'setosa')\n",
      "('Prediction:', 'setosa', 'True Class:', 'setosa')\n",
      "('Prediction:', 'setosa', 'True Class:', 'setosa')\n",
      "('Prediction:', 'setosa', 'True Class:', 'setosa')\n",
      "('Prediction:', 'virginica', 'True Class:', 'virginica')\n",
      "('Prediction:', 'virginica', 'True Class:', 'virginica')\n",
      "('Prediction:', 'setosa', 'True Class:', 'setosa')\n",
      "('Prediction:', 'setosa', 'True Class:', 'setosa')\n",
      "('Prediction:', 'setosa', 'True Class:', 'setosa')\n",
      "('Prediction:', 'setosa', 'True Class:', 'setosa')\n",
      "('Prediction:', 'setosa', 'True Class:', 'setosa')\n",
      "('Prediction:', 'setosa', 'True Class:', 'setosa')\n",
      "('Prediction:', 'setosa', 'True Class:', 'setosa')\n",
      "('Prediction:', 'setosa', 'True Class:', 'setosa')\n",
      "('Prediction:', 'setosa', 'True Class:', 'setosa')\n",
      "('Prediction:', 'setosa', 'True Class:', 'setosa')\n",
      "('Prediction:', 'setosa', 'True Class:', 'setosa')\n",
      "('Prediction:', 'setosa', 'True Class:', 'setosa')\n",
      "('Prediction:', 'setosa', 'True Class:', 'setosa')\n",
      "('Prediction:', 'setosa', 'True Class:', 'setosa')\n",
      "('Prediction:', 'versicolor', 'True Class:', 'versicolor')\n",
      "('Prediction:', 'versicolor', 'True Class:', 'versicolor')\n",
      "('Prediction:', 'versicolor', 'True Class:', 'versicolor')\n",
      "('Prediction:', 'versicolor', 'True Class:', 'versicolor')\n",
      "('Prediction:', 'versicolor', 'True Class:', 'versicolor')\n",
      "('Prediction:', 'versicolor', 'True Class:', 'versicolor')\n",
      "('Prediction:', 'versicolor', 'True Class:', 'versicolor')\n",
      "('Prediction:', 'versicolor', 'True Class:', 'versicolor')\n",
      "('Prediction:', 'versicolor', 'True Class:', 'versicolor')\n",
      "('Prediction:', 'virginica', 'True Class:', 'versicolor')\n",
      "('Prediction:', 'versicolor', 'True Class:', 'versicolor')\n",
      "('Prediction:', 'versicolor', 'True Class:', 'versicolor')\n",
      "('Prediction:', 'versicolor', 'True Class:', 'versicolor')\n",
      "('Prediction:', 'versicolor', 'True Class:', 'versicolor')\n",
      "('Prediction:', 'versicolor', 'True Class:', 'versicolor')\n",
      "('Prediction:', 'virginica', 'True Class:', 'versicolor')\n",
      "('Prediction:', 'versicolor', 'True Class:', 'versicolor')\n",
      "('Prediction:', 'versicolor', 'True Class:', 'versicolor')\n",
      "('Prediction:', 'versicolor', 'True Class:', 'versicolor')\n",
      "('Prediction:', 'versicolor', 'True Class:', 'versicolor')\n",
      "('Prediction:', 'versicolor', 'True Class:', 'versicolor')\n",
      "('Prediction:', 'versicolor', 'True Class:', 'versicolor')\n",
      "('Prediction:', 'versicolor', 'True Class:', 'versicolor')\n",
      "('Prediction:', 'virginica', 'True Class:', 'virginica')\n",
      "('Prediction:', 'versicolor', 'True Class:', 'versicolor')\n",
      "('Prediction:', 'versicolor', 'True Class:', 'versicolor')\n",
      "('Prediction:', 'virginica', 'True Class:', 'virginica')\n",
      "('Prediction:', 'virginica', 'True Class:', 'virginica')\n",
      "('Prediction:', 'virginica', 'True Class:', 'virginica')\n",
      "('Prediction:', 'virginica', 'True Class:', 'virginica')\n",
      "('Prediction:', 'versicolor', 'True Class:', 'virginica')\n",
      "('Prediction:', 'virginica', 'True Class:', 'virginica')\n",
      "('Prediction:', 'virginica', 'True Class:', 'virginica')\n",
      "('Prediction:', 'virginica', 'True Class:', 'virginica')\n",
      "('Prediction:', 'virginica', 'True Class:', 'virginica')\n",
      "('Prediction:', 'virginica', 'True Class:', 'virginica')\n",
      "('Prediction:', 'virginica', 'True Class:', 'virginica')\n",
      "('Prediction:', 'virginica', 'True Class:', 'virginica')\n",
      "('Prediction:', 'virginica', 'True Class:', 'virginica')\n",
      "('Prediction:', 'virginica', 'True Class:', 'virginica')\n",
      "('Prediction:', 'virginica', 'True Class:', 'virginica')\n"
     ]
    }
   ],
   "source": [
    "from sklearn import neighbors, datasets\n",
    "\n",
    "iris = datasets.load_iris()\n",
    "X, y = iris.data, iris.target\n",
    "\n",
    "# create the model\n",
    "knn = neighbors.KNeighborsClassifier(n_neighbors=k)\n",
    "\n",
    "# fit the model\n",
    "#knn.fit(X,y)\n",
    "knn.fit(train_data, train_labels)\n",
    "\n",
    "#test an example\n",
    "#Xtest = np.array([3.0, 5.0, 4.0, 2.0]).reshape(1,-1)\n",
    "accuracy_sk = 0.0\n",
    "for j,a in zip(test_data, test_labels):\n",
    "    result = knn.predict(j.reshape(1,-1))\n",
    "    print(\"Prediction:\", iris['target_names'][result][0], \\\n",
    "    \"True Class:\", iris['target_names'][a])\n",
    "    # Calculate accuracy\n",
    "    if result == a:\n",
    "        accuracy_sk += 1./len(test_data)"
   ]
  },
  {
   "cell_type": "code",
   "execution_count": 19,
   "metadata": {
    "slideshow": {
     "slide_type": "slide"
    }
   },
   "outputs": [
    {
     "name": "stdout",
     "output_type": "stream",
     "text": [
      "Accuracy:  0.96\n"
     ]
    }
   ],
   "source": [
    "print \"Accuracy: \", accuracy_sk "
   ]
  },
  {
   "cell_type": "markdown",
   "metadata": {
    "slideshow": {
     "slide_type": "-"
    }
   },
   "source": [
    "The accuracies are the same. "
   ]
  },
  {
   "cell_type": "code",
   "execution_count": null,
   "metadata": {},
   "outputs": [],
   "source": []
  }
 ],
 "metadata": {
  "kernelspec": {
   "display_name": "Python 2",
   "language": "python",
   "name": "python2"
  },
  "language_info": {
   "codemirror_mode": {
    "name": "ipython",
    "version": 2
   },
   "file_extension": ".py",
   "mimetype": "text/x-python",
   "name": "python",
   "nbconvert_exporter": "python",
   "pygments_lexer": "ipython2",
   "version": "2.7.14"
  }
 },
 "nbformat": 4,
 "nbformat_minor": 2
}
