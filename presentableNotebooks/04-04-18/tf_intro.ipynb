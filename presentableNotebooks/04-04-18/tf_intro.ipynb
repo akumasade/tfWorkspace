{
 "cells": [
  {
   "cell_type": "markdown",
   "metadata": {},
   "source": [
    "# TensorFlow Introduction\n",
    "*Rachel Buttry*\n",
    "\n",
    "*4 April 2018*"
   ]
  },
  {
   "cell_type": "markdown",
   "metadata": {},
   "source": [
    "### What is TensorFlow?\n",
    "\"TensorFlow is an open-source software library for dataflow programming across a range of tasks. It is a symbolic math library, and is also used for machine learning applications such as neural networks.\" -[Wikipedia](https://en.wikipedia.org/wiki/TensorFlow)"
   ]
  },
  {
   "cell_type": "markdown",
   "metadata": {},
   "source": [
    "### Installing TensorFlow\n",
    "There are many different ways to install tensorflow, all of which can be found [here](https://www.tensorflow.org/install/).\n",
    "\n",
    "I installed it using anaconda. \n",
    "([Instructions listed here](https://www.tensorflow.org/install/install_linux#InstallingAnaconda))\n",
    "\n",
    "\n"
   ]
  },
  {
   "cell_type": "markdown",
   "metadata": {},
   "source": [
    "### Activating/Using Tensorflow Environment\n",
    "```\n",
    "rachel@acerc720:~$ source activate tensorflow\n",
    "(tensorflow) rachel@acerc720:~$\n",
    "```\n",
    "The new prompt means you are now using the tensorflow environemnt. The python shell and any py script you run now will use the tensorflow environment. However any packages you want to use must be installed again while in the tensorflow environment.\n",
    "```\n",
    "(tensorflow) rachel@acerc720:~$ pip install jupyter\n",
    "(tensorflow) rachel@acerc720:~$ pip install scikit-learn\n",
    "(tensorflow) rachel@acerc720:~$ pip install pandas\n",
    "```\n"
   ]
  },
  {
   "cell_type": "markdown",
   "metadata": {},
   "source": [
    "### Example 1: Nodes\n",
    "I reccommend watching [this talk](https://www.youtube.com/watch?v=oxf3o8IbCk4) where I've all of the following examples were inspired by or taken from.\n",
    "\n",
    "In Tensorflow, nodes serve as operations performed on data and hold parameters we may want to vary. For instance, mathematical operations (addition, subtraction, multiplication, division) look like:\n",
    "```\n",
    "tf.add(x,y)\n",
    "tf.subtract(x,y)\n",
    "tf.multiply(x,y)\n",
    "tf.divide(x,y)\n",
    "```\n",
    "But you can also just use +,-,\\*,/ for shorhand. The long tf form has more arguments that may be helpful depending on what you're doing. These nodes working together fall onto a \"graph\", more on that in example 2."
   ]
  },
  {
   "cell_type": "code",
   "execution_count": 1,
   "metadata": {},
   "outputs": [],
   "source": [
    "# Start by importing tensorflow\n",
    "import tensorflow as tf"
   ]
  },
  {
   "cell_type": "code",
   "execution_count": 2,
   "metadata": {},
   "outputs": [],
   "source": [
    "# Create two constant nodes \n",
    "const1 = tf.constant(3.5)\n",
    "const2 = tf.constant(10.0)\n",
    "\n",
    "# Create three nodes to\n",
    "# find the difference, sqare it, then multiply it by the first constant\n",
    "diff = tf.subtract(const2, const1)\n",
    "squared = tf.square(diff)\n",
    "add = tf.add(const1, squared)"
   ]
  },
  {
   "cell_type": "code",
   "execution_count": 3,
   "metadata": {},
   "outputs": [],
   "source": [
    "# create a session to use our nodes\n",
    "sess  = tf.Session()\n",
    "#or create a remote session\n",
    "# tf.Session(\"grpc://example.org:2222\")"
   ]
  },
  {
   "cell_type": "code",
   "execution_count": 4,
   "metadata": {},
   "outputs": [
    {
     "name": "stdout",
     "output_type": "stream",
     "text": [
      "45.75\n"
     ]
    }
   ],
   "source": [
    "print sess.run(add)"
   ]
  },
  {
   "cell_type": "code",
   "execution_count": 5,
   "metadata": {},
   "outputs": [],
   "source": [
    "# Now let's try passing data thru a graph\n",
    "# Create two placeholders (for two floats)\n",
    "x  = tf.placeholder(tf.float32)\n",
    "y  = tf.placeholder(tf.float32)\n",
    "\n",
    "# Create two nodes that do the following:\n",
    "# add the values then multiple the value by 3\n",
    "adder_node = x + y\n",
    "add_and_triple = adder_node*3"
   ]
  },
  {
   "cell_type": "code",
   "execution_count": 6,
   "metadata": {},
   "outputs": [
    {
     "name": "stdout",
     "output_type": "stream",
     "text": [
      "22.5\n"
     ]
    }
   ],
   "source": [
    "# pass thru sample values\n",
    "print sess.run(add_and_triple, {x:3, y:4.5})"
   ]
  },
  {
   "cell_type": "markdown",
   "metadata": {},
   "source": [
    "So why should we go thru all this trouble when we could just write the simple version of these operations without tensorflow? One benfit is that, once we create our graph, we can pass data in of any shape, so long as the shape of the two data variables are the same!"
   ]
  },
  {
   "cell_type": "code",
   "execution_count": 7,
   "metadata": {},
   "outputs": [
    {
     "name": "stdout",
     "output_type": "stream",
     "text": [
      "[[2025.         36.300003   22.5     ]\n",
      " [  21.         30.         39.      ]]\n"
     ]
    }
   ],
   "source": [
    "xvalues = [[666, 10, 3.5], [2, 8, 7]]\n",
    "yvalues = [[9, 2.1, 4], [5, 2, 6]]\n",
    "print sess.run(add_and_triple, {x:xvalues, y:yvalues})\n",
    "sess.close()"
   ]
  },
  {
   "cell_type": "markdown",
   "metadata": {},
   "source": [
    "### Example 2: Tensorboard\n",
    "We can visualize what nodes our data is passing through with tensorboard."
   ]
  },
  {
   "cell_type": "code",
   "execution_count": 8,
   "metadata": {},
   "outputs": [],
   "source": [
    "tf.reset_default_graph()#reset graph (or else it will show the example from before)\n",
    "\n",
    "# create some new nodes\n",
    "a = tf.constant(5.0, name=\"input_a\")\n",
    "b = tf.constant(3.0, name=\"input_b\")\n",
    "c = tf.multiply(a,b, name=\"multiply_c\")\n",
    "d = tf.add(a,b, name=\"add_d\")\n",
    "e = tf.add(c,d, name=\"add_e\")\n",
    "\n",
    "# Run it!\n",
    "sess = tf.Session()\n",
    "output = sess.run(e)\n",
    "\n",
    "# Use the writer to create the graph folder\n",
    "writer = tf.summary.FileWriter(\"./my_graph\", sess.graph)\n",
    "writer.close()\n",
    "sess.close()"
   ]
  },
  {
   "cell_type": "markdown",
   "metadata": {},
   "source": [
    "We can access the graph we just created by using tensorboard:\n",
    "```\n",
    "$ tensorboard --logdir=./my_graph\n",
    "TensorBoard 1.5.1 at http://acerc720:6006 (Press CTRL+C to quit)\n",
    "```\n",
    "Then go to the address in your browser (yours will more than likely not be at acerc720:6006)"
   ]
  },
  {
   "cell_type": "markdown",
   "metadata": {},
   "source": [
    "This specific graph looks like:\n",
    "![my graph](./my_graph.png)"
   ]
  },
  {
   "cell_type": "markdown",
   "metadata": {},
   "source": [
    "### Example 3: Linear Regression\n",
    "We can perform a linear fit using a tensorflow. We'll create a linear model: $y = Wx + b$\n",
    "and then use a gradient descent optimizer to find the ideal parameter values for $W$ and $b$.\n",
    "\n",
    "#### Gradient Descent\n",
    "Gradient descent is an optimization algorithm that works by moving towards a minimum of the loss function. It calculates the gradient and takes a step in the direction opposite of it.\n",
    "\n",
    "<img src=\"./Gradient_descent.svg\" width=\"250\">\n",
    "Image from: [Wikipedia](https://en.wikipedia.org/wiki/Gradient_descent)\n",
    "\n",
    "For our example, we can imagine a 3D plot with $W$,$b$ as the x,y values and the $loss(W,b)$  function as the z axis. If we minimize the loss, we're minimizing the sum of the distances of our fitted line from the data points.\n",
    "\n",
    "(This is a situation that really doesn't demand the use of machine learning, but it's a good basic optimization example.)"
   ]
  },
  {
   "cell_type": "code",
   "execution_count": 9,
   "metadata": {},
   "outputs": [],
   "source": [
    "#make a linear model\n",
    "W = tf.Variable([.3], tf.float32)#weight\n",
    "b = tf.Variable([-.3], tf.float32)#bias\n",
    "x = tf.placeholder(tf.float32)#data\n",
    "linear_model = W*x+b"
   ]
  },
  {
   "cell_type": "code",
   "execution_count": 10,
   "metadata": {},
   "outputs": [
    {
     "name": "stdout",
     "output_type": "stream",
     "text": [
      "[0.         0.3        0.6        0.90000004]\n"
     ]
    }
   ],
   "source": [
    "#initilize variables with the values given in first arg\n",
    "init = tf.global_variables_initializer()\n",
    "sess = tf.Session()\n",
    "sess.run(init)\n",
    "\n",
    "# run our model\n",
    "print sess.run(linear_model, {x: [1,2,3,4]})\n",
    "\n",
    "# we just get back W*x+b as we'd expect"
   ]
  },
  {
   "cell_type": "code",
   "execution_count": 11,
   "metadata": {},
   "outputs": [
    {
     "name": "stdout",
     "output_type": "stream",
     "text": [
      "loss:  23.66\n"
     ]
    }
   ],
   "source": [
    "y = tf.placeholder(tf.float32)\n",
    "squared_deltas = tf.square(linear_model - y) # square difference from y\n",
    "loss = tf.reduce_sum(squared_deltas) #error function is sum of all the sqared delta values\n",
    "\n",
    "print \"loss: \", sess.run(loss, {x:[1,2,3,4], y:[0,-1,-2,-3]})"
   ]
  },
  {
   "cell_type": "markdown",
   "metadata": {},
   "source": [
    "We're not done yet! But since this is a really easy system to solve, let's just take a look at what we would get if we used the correct parameters."
   ]
  },
  {
   "cell_type": "code",
   "execution_count": 12,
   "metadata": {},
   "outputs": [
    {
     "name": "stdout",
     "output_type": "stream",
     "text": [
      "loss:  0.0\n"
     ]
    }
   ],
   "source": [
    "#It's a pretty easy system to solve so, let's look at what the correct answer should be\n",
    "fixW = tf.assign(W, [-1.])\n",
    "fixb = tf.assign(b, [1.])\n",
    "sess.run([fixW, fixb])\n",
    "\n",
    "print \"loss: \", sess.run(loss, {x:[1,2,3,4], y:[0,-1,-2,-3]})"
   ]
  },
  {
   "cell_type": "code",
   "execution_count": 13,
   "metadata": {},
   "outputs": [],
   "source": [
    "#Now, let's solve it the machine learning way\n",
    "optimizer = tf.train.GradientDescentOptimizer(0.01) #we'll use gradient descent \n",
    "train = optimizer.minimize(loss)\n",
    "\n",
    "sess.run(init) #reset to intial, incorrect values or variables (W,b)\n",
    "\n",
    "#train 1000 times\n",
    "for i in range(1000):\n",
    "    #each \"train\" iteration is a step in the negative gradient direction\n",
    "    sess.run(train, {x:[1,2,3,4], y:[0,-1,-2,-3]})"
   ]
  },
  {
   "cell_type": "code",
   "execution_count": 15,
   "metadata": {},
   "outputs": [
    {
     "name": "stdout",
     "output_type": "stream",
     "text": [
      " [array([-0.9999969], dtype=float32), array([0.9999908], dtype=float32)]\n",
      "loss:  5.6999738e-11\n"
     ]
    }
   ],
   "source": [
    "print sess.run([W,b])\n",
    "print \"loss: \", sess.run(loss, {x:[1,2,3,4], y:[0,-1,-2,-3]})\n",
    "sess.close()"
   ]
  },
  {
   "cell_type": "markdown",
   "metadata": {},
   "source": [
    "It's not exactly the correct answer, but it's pretty damn close. And that's fine, this is the closest we could get with out gradient step."
   ]
  },
  {
   "cell_type": "markdown",
   "metadata": {},
   "source": [
    "### Summary\n",
    "* Tensorflow is an enviroment we can use to run python. \n",
    "* Nodes = operations, data input, weight parameters, and more!\n",
    "* The graph is where the nodes live and you can look at the nodes in relation to eachother using tensorgraph.\n",
    "* Optimize parameters using an optimizer! It may not give you the exact answer, but good enough!\n",
    "\n",
    "You may have noticed the ```sess.close()``` at the end of each example. This is because each session can only have one graph. A common workaround is to instead use:\n",
    "\n",
    "```\n",
    "with sess as tf.Session:\n",
    "    node = tf.constant(5.0)\n",
    "    sess.run(node)\n",
    "```\n"
   ]
  },
  {
   "cell_type": "code",
   "execution_count": null,
   "metadata": {},
   "outputs": [],
   "source": []
  }
 ],
 "metadata": {
  "kernelspec": {
   "display_name": "Python 2",
   "language": "python",
   "name": "python2"
  },
  "language_info": {
   "codemirror_mode": {
    "name": "ipython",
    "version": 2
   },
   "file_extension": ".py",
   "mimetype": "text/x-python",
   "name": "python",
   "nbconvert_exporter": "python",
   "pygments_lexer": "ipython2",
   "version": "2.7.14"
  }
 },
 "nbformat": 4,
 "nbformat_minor": 2
}
